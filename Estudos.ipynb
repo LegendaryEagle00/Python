{
  "nbformat": 4,
  "nbformat_minor": 0,
  "metadata": {
    "colab": {
      "provenance": [],
      "authorship_tag": "ABX9TyOriq+uFDdA317f8GIa6DjD",
      "include_colab_link": true
    },
    "kernelspec": {
      "name": "python3",
      "display_name": "Python 3"
    },
    "language_info": {
      "name": "python"
    }
  },
  "cells": [
    {
      "cell_type": "markdown",
      "metadata": {
        "id": "view-in-github",
        "colab_type": "text"
      },
      "source": [
        "<a href=\"https://colab.research.google.com/github/LegendaryEagle00/Python/blob/main/Estudos.ipynb\" target=\"_parent\"><img src=\"https://colab.research.google.com/assets/colab-badge.svg\" alt=\"Open In Colab\"/></a>"
      ]
    },
    {
      "cell_type": "markdown",
      "source": [
        "# Variaveis"
      ],
      "metadata": {
        "id": "VofrUJWfVx7e"
      }
    },
    {
      "cell_type": "code",
      "execution_count": null,
      "metadata": {
        "id": "lqjXb-ufNLN6"
      },
      "outputs": [],
      "source": [
        "#Declaração\n",
        "inteiro = 10\n",
        "pontoFlutuante = 3.14\n",
        "strings = \"Ola\"\n",
        "booleanVerdadeiro = True\n",
        "booleanFalso = False\n",
        "lista = [1, \"Nome\", 3.15]\n",
        "tupla = (1, \"Nome\", 5.67)\n",
        "dicionario = {\"chave\":\"valor\", \"chave2\":\"valor2\",\"chaveN\":\"valorN\"}\n",
        "\n",
        "print(type(inteiro))\n",
        "print(type(pontoFlutuante))\n",
        "print(type(strings))\n",
        "print(type(booleanVerdadeiro))\n",
        "print(type(booleanFalso))\n",
        "print(type(lista))\n",
        "print(type(tupla))\n",
        "print(type(dicionario))"
      ]
    },
    {
      "cell_type": "code",
      "source": [
        "#Desempacotamento e manipulações\n",
        "pessoa1Lista = [\"Joaquim\", 25, 1.75]\n",
        "pessoa2Tupla = (\"Pedro\", 20, 1.80)\n",
        "pessoa3Dicionario = {\"nome\":\"Joao\",\"Idade\":23,\"Altura\":1.65}\n",
        "\n",
        "nomePessoa1, idadePessoa1, alturaPessoa1 = pessoa1Lista\n",
        "nomePessoa2, idadePessoa2, alturaPessoa2 = pessoa2Tupla\n",
        "\n",
        "print(f'O nome da Pessoa 1 é {nomePessoa1}, ele tem: {idadePessoa1} anos e {alturaPessoa1}m de Altura')\n",
        "print(f'O nome da Pessoa 2 é {nomePessoa2}, ele tem: {idadePessoa2} anos e {alturaPessoa2:.2f}m de Altura') # ':.2f' para definir quantas casas decimais imprimir\n",
        "print(f'O nome da Pessoa 3 é {pessoa3Dicionario[\"nome\"]} , ele tem: {pessoa3Dicionario[\"Idade\"]} anos e {pessoa3Dicionario[\"Altura\"]}m de Altura ')\n",
        "pessoa1Lista[0] = \"Carlos\"\n",
        "pessoa3Dicionario[\"Idade\"] = 24\n",
        "print(f'o nome da pessoa que foi declarada em uma lista mudou de {nomePessoa1} para {pessoa1Lista[0]}')\n",
        "print(\"o nome que foi declarado em uma dupla não pode ser mudado, pois tratam-se de dados Imutaveis\")\n",
        "#pessoa2Tuplas[0] = \"Carlos\" == Error\n",
        "print(f'o {pessoa3Dicionario[\"nome\"]} Fez aniversario e Sua idade mudou para {pessoa3Dicionario[\"Idade\"]} anos')\n"
      ],
      "metadata": {
        "colab": {
          "base_uri": "https://localhost:8080/"
        },
        "id": "fihyWtEKayrq",
        "outputId": "1f1fc888-f6e0-4192-89d1-89dd6e1593f9"
      },
      "execution_count": null,
      "outputs": [
        {
          "output_type": "stream",
          "name": "stdout",
          "text": [
            "O nome da Pessoa 1 é Joaquim, ele tem: 25 anos e 1.75m de Altura\n",
            "O nome da Pessoa 2 é Pedro, ele tem: 20 anos e 1.80m de Altura\n",
            "O nome da Pessoa 3 é Joao , ele tem: 23 anos e 1.65m de Altura \n",
            "o nome da pessoa que foi declarada em uma lista mudou de Joaquim para Carlos\n",
            "o nome que foi declarado em uma dupla não pode ser mudado, pois tratam-se de dados Imutaveis\n",
            "o Joao Fez aniversario e Sua idade mudou para 24 anos\n"
          ]
        }
      ]
    },
    {
      "cell_type": "markdown",
      "source": [
        "# Estruturas de Controle"
      ],
      "metadata": {
        "id": "FSefnT9Kd3d-"
      }
    },
    {
      "cell_type": "code",
      "source": [
        "#Estruturas Condicionais\n",
        "par = 2\n",
        "impar = 3\n",
        "zero = 0\n",
        "\n",
        "print(par)\n",
        "if par == 0:\n",
        "  print(\"O numero é nulo\")\n",
        "elif par % 2 == 0:\n",
        "  print(\"O numero é par\")\n",
        "else:\n",
        "  print(\"O numero é impar\")\n",
        "\n",
        "print(impar)\n",
        "if impar == 0:\n",
        "  print(\"O numero é nulo\")\n",
        "elif impar % 2 == 0:\n",
        "  print(\"O numero é par\")\n",
        "else:\n",
        "  print(\"O numero é impar\")\n",
        "\n",
        "print(zero)\n",
        "if zero == 0:\n",
        "  print(\"O numero é nulo\")\n",
        "elif zero % 2 == 0:\n",
        "  print(\"O numero é par\")\n",
        "else:\n",
        "  print(\"O numero é impar\")"
      ],
      "metadata": {
        "colab": {
          "base_uri": "https://localhost:8080/"
        },
        "id": "qP_1-7Opd8Sb",
        "outputId": "b015a72e-4d6d-4865-a0a0-960b46b19e6e"
      },
      "execution_count": null,
      "outputs": [
        {
          "output_type": "stream",
          "name": "stdout",
          "text": [
            "2\n",
            "O numero é par\n",
            "3\n",
            "O numero é impar\n",
            "0\n",
            "O numero é nulo\n"
          ]
        }
      ]
    },
    {
      "cell_type": "code",
      "source": [
        "#Estruturas de Repetição\n"
      ],
      "metadata": {
        "id": "HkBth5hNezs_"
      },
      "execution_count": null,
      "outputs": []
    },
    {
      "cell_type": "code",
      "source": [
        "#for\n",
        "frutas = [\"maça\", \"banana\", \"uva\"]\n",
        "pessoa = {\"nome\": \"Ana\", \"idade\": 25, \"cidade\": \"São Paulo\"}\n",
        "\n",
        "#Iterar com range() // \"for numero in range(inicio[qual numero começar], fim[qual numero terminar, não executado], passo[como avançar]):\"\n",
        "for i in range(5):\n",
        "  print(i)\n",
        "print('de 0 a 4 com passo 1\\n')\n",
        "\n",
        "for i in range(0,12,2):\n",
        "  print(i)\n",
        "print('de 0 a 11 com passo 2')\n",
        "print('note que o 12 nao foi impresso\\n')\n",
        "\n",
        "for i in range(0,15,3):\n",
        "  print(i)\n",
        "print('de 0 a 14 com passo 3')\n",
        "print('note que o 15 nao foi impresso\\n')\n",
        "\n",
        "\n",
        "#Iterar Sobre uma Lista, mas tamber serve para tupla\n",
        "for item in frutas:\n",
        "  print(item)\n",
        "print(\"\\n\")\n",
        "\n",
        "#Iterar Sobre um Dicionário\n",
        "for chave in pessoa:\n",
        "  print(chave, \":\", pessoa[chave])\n",
        "print(\"\\n\")\n",
        "\n",
        "#Iterar Sobre os Valores:\n",
        "for valor in pessoa.values():\n",
        "  print(valor)\n",
        "print(\"\\n\")\n",
        "\n",
        "#Iterar Sobre Pares Chave-Valor:\n",
        "for chave, valor in pessoa.items():\n",
        "  print(f\"{chave}: {valor}\")\n",
        "print(\"\\n\")\n",
        "\n",
        "#Iterar Sobre uma String\n",
        "texto = \"Python\"\n",
        "for letra in texto:\n",
        "  print(letra)\n",
        "print(\"\\n\")\n",
        "\n",
        "#Iterar Sobre Listas de Listas (Matrizes)\n",
        "matriz = [\n",
        "    [1, 2, 3],\n",
        "    [4, 5, 6],\n",
        "    [7, 8, 9]\n",
        "]\n",
        "for linha in matriz:\n",
        "    for numero in linha:\n",
        "        print(numero, end=' ')\n",
        "    print() #Nova Linha\n",
        "\n",
        "#pode-se usar uma compreensão de lista para criar uma nova lista aplicando uma expressão a cada item de um iterável.\n",
        "quadrados = [x**2 for x in range(10)]\n",
        "pares = [x for x in range(10) if x % 2 == 0]\n",
        "print(quadrador)\n",
        "print(pares)\n",
        "print(\"\\n\")"
      ],
      "metadata": {
        "id": "jbd1Zlqde4wO"
      },
      "execution_count": null,
      "outputs": []
    },
    {
      "cell_type": "markdown",
      "source": [
        "## While"
      ],
      "metadata": {
        "id": "dzRBvfb_mkAY"
      }
    },
    {
      "cell_type": "code",
      "source": [
        "#Sintaxe:\n",
        "while condicao:\n",
        "    # Código a ser executado enquanto condicao for verdadeira"
      ],
      "metadata": {
        "id": "V9PDdt6mmQ-q"
      },
      "execution_count": null,
      "outputs": []
    },
    {
      "cell_type": "code",
      "source": [
        "#Exemplo:\n",
        "contador = 0\n",
        "while contador < 5:\n",
        "    print(contador)\n",
        "    contador += 1\n",
        "print(\"\\n\")\n",
        "\n",
        "#Loop Infinito com Condição de Saída\n",
        "contador = 0\n",
        "while True:\n",
        "    print(contador)\n",
        "    contador += 1\n",
        "    if contador >= 5:\n",
        "        break #Se Tirarmos o break o loop ocorrera indefinidamente\n",
        "\n",
        ""
      ],
      "metadata": {
        "id": "8fNYMQGgmU_P"
      },
      "execution_count": null,
      "outputs": []
    },
    {
      "cell_type": "code",
      "source": [
        "#Loop com Verificação de Condição de Entrada\n",
        "numero = -1\n",
        "while numero < 0:\n",
        "    numero = int(input(\"Digite um número positivo: \"))\n",
        "    if numero < 0:\n",
        "        print(\"Número inválido. Tente novamente.\")\n",
        "print(f\"Você digitou um número positivo: {numero}\")"
      ],
      "metadata": {
        "id": "BUJHlKa5mm2Y"
      },
      "execution_count": null,
      "outputs": []
    },
    {
      "cell_type": "code",
      "source": [
        "#Usando while com Listas e Condições\n",
        "numeros = [1, 2, 3, 4, 5]\n",
        "while numeros:\n",
        "    print(numeros.pop(0))"
      ],
      "metadata": {
        "id": "5A5j9q1jmq8O"
      },
      "execution_count": null,
      "outputs": []
    },
    {
      "cell_type": "code",
      "source": [
        "#Loop com else\n",
        "#O bloco else no loop while é executado quando o loop termina normalmente (não por uma instrução break).\n",
        "contador = 0\n",
        "while contador < 5:\n",
        "    print(contador)\n",
        "    contador += 1\n",
        "else:\n",
        "    print(\"Loop terminado.\")"
      ],
      "metadata": {
        "id": "Xz9LE-MfmvQZ"
      },
      "execution_count": null,
      "outputs": []
    },
    {
      "cell_type": "code",
      "source": [
        "#Usando while para Processar Dados de Entrada\n",
        "#Pode-se usar o loop while para processar dados de entrada até que uma condição de parada seja satisfeita.\n",
        "while True:\n",
        "    comando = input(\"Digite um comando (ou 'sair' para encerrar): \")\n",
        "    if comando == \"sair\":\n",
        "        print(\"Saindo...\")\n",
        "        break\n",
        "    elif comando == \"hello\":\n",
        "        print(\"Olá!\")\n",
        "    else:\n",
        "        print(\"Comando não reconhecido.\")"
      ],
      "metadata": {
        "id": "ORwxw14Hm1hH"
      },
      "execution_count": null,
      "outputs": []
    },
    {
      "cell_type": "code",
      "source": [
        "#Manipulação de Strings com while\n",
        "texto = \"ola, bem vindo\"\n",
        "while \" \" in texto:\n",
        "    texto = texto.replace(\" \", \"_\", 1)  # Substitui apenas o primeiro espaço em cada iteração\n",
        "    print(texto)"
      ],
      "metadata": {
        "colab": {
          "base_uri": "https://localhost:8080/"
        },
        "id": "zEkiRNk9m_No",
        "outputId": "0a191d3e-9dee-41b0-926a-4c349eb74b61"
      },
      "execution_count": 1,
      "outputs": [
        {
          "output_type": "stream",
          "name": "stdout",
          "text": [
            "ola,_bem vindo\n",
            "ola,_bem_vindo\n"
          ]
        }
      ]
    },
    {
      "cell_type": "code",
      "source": [
        "#Manipulação de Contadores e Índices\n",
        "numeros = [10, 20, 30, 40, 50]\n",
        "indice = 0\n",
        "while indice < len(numeros):\n",
        "    print(numeros[indice])\n",
        "    indice += 2  # Incremento por 2"
      ],
      "metadata": {
        "id": "jzAtIE9enRAQ"
      },
      "execution_count": null,
      "outputs": []
    },
    {
      "cell_type": "markdown",
      "source": [
        "## Controle de Fluxo Avançado"
      ],
      "metadata": {
        "id": "Zp7Gw4ZHnfex"
      }
    },
    {
      "cell_type": "markdown",
      "source": [
        "## break"
      ],
      "metadata": {
        "id": "MP82hbD1nggx"
      }
    },
    {
      "cell_type": "code",
      "source": [
        "#Interrompe a execução do loop imediatamente e sai do loop.\n",
        "\n",
        "for i in range(10):\n",
        "    if i == 5:\n",
        "        break\n",
        "    print(i)"
      ],
      "metadata": {
        "id": "TPzW0DqGnidi"
      },
      "execution_count": null,
      "outputs": []
    },
    {
      "cell_type": "code",
      "source": [
        "#Interromper um Loop em Múltiplos Níveis\n",
        "for i in range(3):\n",
        "    for j in range(3):\n",
        "        if j == 2:\n",
        "            break\n",
        "        print(f\"i={i}, j={j}\")\n",
        "    print(\"Fim do loop interno\")"
      ],
      "metadata": {
        "id": "79UyEveSnreZ"
      },
      "execution_count": null,
      "outputs": []
    },
    {
      "cell_type": "markdown",
      "source": [
        "## continue"
      ],
      "metadata": {
        "id": "vyQau_IvnvNR"
      }
    },
    {
      "cell_type": "code",
      "source": [
        "#Pula a iteração atual do loop e passa para a próxima iteração.\n",
        "for i in range(10):\n",
        "    if i % 2 == 0:\n",
        "        continue\n",
        "    print(i)"
      ],
      "metadata": {
        "id": "yna-4_zxnwtB"
      },
      "execution_count": null,
      "outputs": []
    },
    {
      "cell_type": "markdown",
      "source": [
        "## pass"
      ],
      "metadata": {
        "id": "91WGmZE2ny1B"
      }
    },
    {
      "cell_type": "code",
      "source": [
        "#Um marcador nulo que faz nada. Usado como um placeholder onde um código ainda não foi implementado.\n",
        "def funcao_incompleta():\n",
        "    pass  # Código a ser implementado mais tarde"
      ],
      "metadata": {
        "id": "7k2GDFY2n0sb"
      },
      "execution_count": null,
      "outputs": []
    },
    {
      "cell_type": "code",
      "source": [
        "#Definindo Classes com Métodos Vazios\n",
        "class NomeDaClasse:\n",
        "    def metodo1(self):\n",
        "        pass  # Implementar método aqui mais tarde\n",
        "\n",
        "    def metodo2(self):\n",
        "        pass  # Implementar método aqui mais tarde"
      ],
      "metadata": {
        "id": "SIrXCAG1n6H4"
      },
      "execution_count": null,
      "outputs": []
    },
    {
      "cell_type": "code",
      "source": [
        "#Estruturas de Dados Incompletas\n",
        "for item in iteravel:\n",
        "    pass  # Código a ser adicionado mais tarde"
      ],
      "metadata": {
        "id": "y899fj4Jn7ez"
      },
      "execution_count": null,
      "outputs": []
    },
    {
      "cell_type": "code",
      "source": [
        "#Em Blocos try-except\n",
        "try:\n",
        "    # Código que pode lançar uma exceção\n",
        "except ExcecaoEspecifica:\n",
        "    pass  # Tratar exceção mais tarde"
      ],
      "metadata": {
        "id": "R1MqQ89Fn9Xg"
      },
      "execution_count": null,
      "outputs": []
    },
    {
      "cell_type": "markdown",
      "source": [
        "# Tratamento de Erros"
      ],
      "metadata": {
        "id": "NKirlf0BoJGS"
      }
    },
    {
      "cell_type": "code",
      "source": [
        "#Estruturas para tratamento de exceções e garantir a execução de código, independentemente de erros.\n",
        "try:\n",
        "    # Código que pode gerar exceções\n",
        "except TipoDeExcecao:\n",
        "    # Código para tratar a exceção\n",
        "finally:\n",
        "    # Código que é sempre executado, independentemente de erro ou não"
      ],
      "metadata": {
        "id": "f6QTb2yjoLwa"
      },
      "execution_count": null,
      "outputs": []
    },
    {
      "cell_type": "code",
      "source": [
        "#Exemplo\n",
        "try:\n",
        "    resultado = 10 / 0\n",
        "except ZeroDivisionError:\n",
        "    print(\"Não é possível dividir por zero.\")\n",
        "finally:\n",
        "    print(\"Bloco finally executado.\")"
      ],
      "metadata": {
        "id": "KMEKb13SoROB"
      },
      "execution_count": null,
      "outputs": []
    },
    {
      "cell_type": "code",
      "source": [
        "#Capturando Múltiplas Exceções\n",
        "try:\n",
        "    # Código que pode gerar uma exceção\n",
        "except ExcecaoEspecifica1:\n",
        "    # Código para ExcecaoEspecifica1\n",
        "except ExcecaoEspecifica2:\n",
        "    # Código para ExcecaoEspecifica2"
      ],
      "metadata": {
        "id": "V8AOHIKtoWJy"
      },
      "execution_count": null,
      "outputs": []
    },
    {
      "cell_type": "code",
      "source": [
        "#Capturando Todas as Exceções\n",
        "try:\n",
        "    # Código que pode gerar uma exceção\n",
        "except Exception as e:\n",
        "    # Código para lidar com qualquer exceção\n",
        "    print(f\"Erro: {e}\")"
      ],
      "metadata": {
        "id": "DOs1H2cMoYwp"
      },
      "execution_count": null,
      "outputs": []
    },
    {
      "cell_type": "code",
      "source": [
        "#Exemplo\n",
        "try:\n",
        "    resultado = 10 / 0\n",
        "except Exception as e:\n",
        "    print(f\"Erro: {e}\")"
      ],
      "metadata": {
        "id": "2EbEIY7YocQa"
      },
      "execution_count": null,
      "outputs": []
    },
    {
      "cell_type": "code",
      "source": [
        "#Usando else com try\n",
        "try:\n",
        "    # Código que pode gerar uma exceção\n",
        "except ExcecaoEspecifica:\n",
        "    # Código para lidar com a exceção\n",
        "else:\n",
        "    # Código a ser executado se não houver exceção"
      ],
      "metadata": {
        "id": "YjrEZtMcocxi"
      },
      "execution_count": null,
      "outputs": []
    },
    {
      "cell_type": "code",
      "source": [
        "#Uso Combinado de try, except, else, e finally\n",
        "try:\n",
        "    # Código que pode gerar uma exceção\n",
        "except ExcecaoEspecifica:\n",
        "    # Código para lidar com a exceção\n",
        "else:\n",
        "    # Código a ser executado se não houver exceção\n",
        "finally:\n",
        "    # Código a ser sempre executado\n"
      ],
      "metadata": {
        "id": "4jo2nsOQogz1"
      },
      "execution_count": null,
      "outputs": []
    },
    {
      "cell_type": "code",
      "source": [
        "#Exemplo:\n",
        "try:\n",
        "    numero = int(input(\"Digite um número: \"))\n",
        "    resultado = 10 / numero\n",
        "except ZeroDivisionError:\n",
        "    print(\"Erro: Divisão por zero!\")\n",
        "except ValueError:\n",
        "    print(\"Erro: Entrada inválida!\")\n",
        "else:\n",
        "    print(f\"Resultado: {resultado}\")\n",
        "finally:\n",
        "    print(\"Execução finalizada.\")"
      ],
      "metadata": {
        "id": "-NPMbLFKojqr"
      },
      "execution_count": null,
      "outputs": []
    },
    {
      "cell_type": "code",
      "source": [
        "#Usando try com Funções\n",
        "def dividir(a, b):\n",
        "    try:\n",
        "        resultado = a / b\n",
        "    except ZeroDivisionError:\n",
        "        print(\"Erro: Divisão por zero!\")\n",
        "    else:\n",
        "        print(f\"Resultado: {resultado}\")\n",
        "\n",
        "dividir(10, 0)\n",
        "dividir(10, 2)"
      ],
      "metadata": {
        "colab": {
          "base_uri": "https://localhost:8080/"
        },
        "id": "NFlBvm8xonSa",
        "outputId": "5c724f04-47d0-468e-8418-aed107ce415c"
      },
      "execution_count": 3,
      "outputs": [
        {
          "output_type": "stream",
          "name": "stdout",
          "text": [
            "Erro: Divisão por zero!\n",
            "Resultado: 5.0\n"
          ]
        }
      ]
    },
    {
      "cell_type": "markdown",
      "source": [
        "# Funções\n"
      ],
      "metadata": {
        "id": "O7rkQTtLo29z"
      }
    },
    {
      "cell_type": "markdown",
      "source": [
        "## Declaração de Função"
      ],
      "metadata": {
        "id": "-wyGgzSfo8ly"
      }
    },
    {
      "cell_type": "code",
      "source": [
        "#sintaxe\n",
        "def nome_da_funcao(parametros):\n",
        "    # Corpo da função\n",
        "    return valor_de_retorno"
      ],
      "metadata": {
        "id": "JzXq3jKCo8YD"
      },
      "execution_count": null,
      "outputs": []
    },
    {
      "cell_type": "code",
      "source": [
        "#Exemplo\n",
        "def saudacao(nome):\n",
        "  print(f'Ola, {nome}')\n",
        "\n",
        "saudacao(\"otavio\")"
      ],
      "metadata": {
        "id": "rRhjbFCVo6br"
      },
      "execution_count": null,
      "outputs": []
    },
    {
      "cell_type": "code",
      "source": [
        "#Função Com Vários Parâmetros\n",
        "def soma(a, b):\n",
        "    return a + b\n",
        "\n",
        "print(soma(5, 3))"
      ],
      "metadata": {
        "id": "Rk_gkngVpWTr"
      },
      "execution_count": null,
      "outputs": []
    },
    {
      "cell_type": "code",
      "source": [
        "#Função que Retorna Múltiplos Valores\n",
        "def dividir_e_resto(a, b):\n",
        "    return a // b, a % b\n",
        "\n",
        "resultado, resto = dividir_e_resto(10, 3)\n",
        "print(f\"Resultado: {resultado}, Resto: {resto}\")"
      ],
      "metadata": {
        "id": "SxN_qPFfpEXr"
      },
      "execution_count": null,
      "outputs": []
    },
    {
      "cell_type": "code",
      "source": [
        "#Parâmetros Padrão\n",
        "def saudacao(nome, msg = \"Ola\"):\n",
        "  print(f'{msg}, {nome}')\n",
        "\n",
        "saudacao('otavio')\n",
        "saudacao('otavio', 'Bom dia')"
      ],
      "metadata": {
        "id": "myu9eQUwpHwT"
      },
      "execution_count": null,
      "outputs": []
    },
    {
      "cell_type": "code",
      "source": [
        "#Funções com Número Variável de Parâmetros\n",
        "#pode-se usar *args para passar um número variável de argumentos não nomeados para a função.\n",
        "def soma_todos(*args):\n",
        "    return sum(args)\n",
        "\n",
        "total = soma_todos(1, 2, 3, 4, 5)\n",
        "print(total)"
      ],
      "metadata": {
        "id": "bCSWR7EYpKTT"
      },
      "execution_count": null,
      "outputs": []
    },
    {
      "cell_type": "code",
      "source": [
        "#Documentação de Funções\n",
        "def calcular_area(forma, *dimensoes, **opcoes):\n",
        "    \"\"\"\n",
        "    Calcula a área de diferentes formas geométricas.\n",
        "\n",
        "    :param forma: O tipo de forma (e.g., 'retangulo', 'circulo').\n",
        "    :param dimensoes: Dimensões necessárias para calcular a área.\n",
        "    :param opcoes: Opções adicionais, como unidade de medida.\n",
        "    :return: A área calculada.\n",
        "    \"\"\"\n",
        "    unidade = opcoes.get('unidade', 'm²')\n",
        "\n",
        "    if forma == 'retangulo':\n",
        "        comprimento, largura = dimensoes\n",
        "        area = comprimento * largura\n",
        "    elif forma == 'circulo':\n",
        "        import math\n",
        "        raio, = dimensoes\n",
        "        area = math.pi * (raio ** 2)\n",
        "    else:\n",
        "        raise ValueError(\"Forma não suportada\")\n",
        "\n",
        "    return f\"A área é {area} {unidade}\"\n",
        "\n",
        "print(calcular_area('retangulo', 5, 3, unidade='cm²'))\n",
        "print(calcular_area('circulo', 7))"
      ],
      "metadata": {
        "id": "c-7a61_ZpQKE"
      },
      "execution_count": null,
      "outputs": []
    },
    {
      "cell_type": "code",
      "source": [
        "#Função Sem Parâmetro\n",
        "def mensagem_bem_vindo():\n",
        "    return \"Bem-vindo ao Python!\"\n",
        "print(mensagem_bem_vindo())"
      ],
      "metadata": {
        "id": "xmj48vNspTh0"
      },
      "execution_count": null,
      "outputs": []
    },
    {
      "cell_type": "code",
      "source": [
        "#Função Recursiva\n",
        "#Sintaxe:\n",
        "def fatorial(n):\n",
        "    if n == 0:\n",
        "        return 1\n",
        "    else:\n",
        "        return n * fatorial(n - 1)\n",
        "\n"
      ],
      "metadata": {
        "id": "QlN5615EpT1E"
      },
      "execution_count": null,
      "outputs": []
    },
    {
      "cell_type": "code",
      "source": [
        "#Exemplo:\n",
        "def fatorial(n):\n",
        "    if n == 0:\n",
        "        return 1\n",
        "    else:\n",
        "        return n * fatorial(n - 1)\n",
        "\n",
        "print(fatorial(5))"
      ],
      "metadata": {
        "id": "9xw3azmQpeS7"
      },
      "execution_count": null,
      "outputs": []
    },
    {
      "cell_type": "code",
      "source": [
        "#Funções em Classes (Métodos)\n",
        "#Sintaxe:\n",
        "class MinhaClasse:\n",
        "    def metodo(self, parametro):\n",
        "        # Código do método\n",
        "        pass"
      ],
      "metadata": {
        "id": "VY0-DXVHpkBp"
      },
      "execution_count": null,
      "outputs": []
    },
    {
      "cell_type": "code",
      "source": [
        "#Exemplo:\n",
        "class Calculadora:\n",
        "    def somar(self, a, b): #self é um parâmetro usado dentro dos métodos de uma classe para se referir à instância atual da classe.\n",
        "        return a + b\n",
        "    def subtrair(self, a, b):\n",
        "        return a - b\n",
        "\n",
        "calc = Calculadora()\n",
        "print(calc.somar(5, 3))\n",
        "print(calc.subtrair(5, 3))\n"
      ],
      "metadata": {
        "id": "ZpBhJRObpmRC"
      },
      "execution_count": null,
      "outputs": []
    },
    {
      "cell_type": "markdown",
      "source": [
        "# Classes"
      ],
      "metadata": {
        "id": "4lii-0EypsE8"
      }
    },
    {
      "cell_type": "code",
      "source": [
        "#Definindo uma Classe Simples\n",
        "#Sintaxe:\n",
        "class NomeDaClasse:\n",
        "    def __init__(self, parametros):\n",
        "        # Construtor da classe, inicializa os atributos\n",
        "        self.atributo = parametro"
      ],
      "metadata": {
        "id": "_PcSO2QEptpx"
      },
      "execution_count": null,
      "outputs": []
    },
    {
      "cell_type": "code",
      "source": [
        "#Exemplo:\n",
        "class Carro:\n",
        "    def __init__(self, modelo, ano):\n",
        "        self.modelo = modelo\n",
        "        self.ano = ano\n",
        "\n",
        "meu_carro = Carro(\"Fusca\", 1975)\n",
        "print(meu_carro.modelo)\n",
        "print(meu_carro.ano)\n"
      ],
      "metadata": {
        "id": "plhnkxmgpwQJ"
      },
      "execution_count": 3,
      "outputs": []
    },
    {
      "cell_type": "code",
      "source": [
        "#Métodos de Instância\n",
        "class Pessoa:\n",
        "    def __init__(self, nome, idade):\n",
        "        self.nome = nome\n",
        "        self.idade = idade\n",
        "\n",
        "    def cumprimentar(self):\n",
        "        return f\"Olá, meu nome é {self.nome} e eu tenho {self.idade} anos.\"\n",
        "\n",
        "pessoa = Pessoa(\"Ana\", 30)\n",
        "print(pessoa.cumprimentar())"
      ],
      "metadata": {
        "id": "gjjZEfaXpzuA"
      },
      "execution_count": null,
      "outputs": []
    },
    {
      "cell_type": "code",
      "source": [
        "#Métodos de Classe\n",
        "#Métodos de classe são definidos com o decorador @classmethod e recebem a classe como primeiro argumento (cls).\n",
        "#Exemplo:\n",
        "class Matematica:\n",
        "    @classmethod\n",
        "    def soma(cls, a, b):\n",
        "        return a + b\n",
        "\n",
        "print(Matematica.soma(5, 3))"
      ],
      "metadata": {
        "id": "BvvqGR8Jp9Jc"
      },
      "execution_count": null,
      "outputs": []
    },
    {
      "cell_type": "code",
      "source": [
        "#Métodos Estáticos\n",
        "#Métodos estáticos não têm acesso à instância ou à classe. São definidos com o decorador @staticmethod.\n",
        "#Exemplo:\n",
        "class Utilidades:\n",
        "    @staticmethod\n",
        "    def saudacao(nome):\n",
        "        return f\"Olá, {nome}!\"\n",
        "\n",
        "print(Utilidades.saudacao(\"Carlos\"))"
      ],
      "metadata": {
        "id": "up31WDeAqEnL"
      },
      "execution_count": null,
      "outputs": []
    },
    {
      "cell_type": "code",
      "source": [
        "#Herança\n",
        "#Classes podem herdar de outras classes, permitindo criar uma nova classe baseada em uma classe existente.\n",
        "#Sintaxe:\n",
        "class ClasseBase:\n",
        "    # Código da classe base\n",
        "\n",
        "class ClasseDerivada(ClasseBase):\n",
        "    # Código da classe derivada"
      ],
      "metadata": {
        "id": "qMsp4wbRqI_1"
      },
      "execution_count": null,
      "outputs": []
    },
    {
      "cell_type": "code",
      "source": [
        "#Exemplo:\n",
        "class Animal:\n",
        "    def __init__(self, nome):\n",
        "        self.nome = nome\n",
        "\n",
        "    def falar(self):\n",
        "        raise NotImplementedError(\"Subclasses devem implementar este método\")\n",
        "\n",
        "class Cachorro(Animal):\n",
        "    def falar(self):\n",
        "        return \"Au Au\"\n",
        "\n",
        "class Gato(Animal):\n",
        "    def falar(self):\n",
        "        return \"Miau\"\n",
        "\n",
        "cachorro = Cachorro(\"Rex\")\n",
        "gato = Gato(\"Miau\")\n",
        "print(cachorro.falar())  #\n",
        "print(gato.falar())      #\n"
      ],
      "metadata": {
        "id": "pOVqmU5sqM0c"
      },
      "execution_count": null,
      "outputs": []
    },
    {
      "cell_type": "code",
      "source": [
        "#Propriedades\n",
        "#Você pode usar o decorador @property para criar métodos que atuam como atributos.\n",
        "#Sintaxe:\n",
        "class NomeDaClasse:\n",
        "    @property\n",
        "    def nome_do_atributo(self):\n",
        "        # Código para obter o valor do atributo\n",
        "        return self._atributo\n",
        "\n",
        "    @nome_do_atributo.setter\n",
        "    def nome_do_atributo(self, valor):\n",
        "        # Código para definir o valor do atributo\n",
        "        self._atributo = valor\n"
      ],
      "metadata": {
        "id": "7neLKielqWlt"
      },
      "execution_count": null,
      "outputs": []
    },
    {
      "cell_type": "code",
      "source": [
        "#Exemplo:\n",
        "class Pessoa:\n",
        "    def __init__(self, nome):\n",
        "        self._nome = nome\n",
        "\n",
        "    @property\n",
        "    def nome(self):\n",
        "        return self._nome\n",
        "\n",
        "    @nome.setter\n",
        "    def nome(self, valor):\n",
        "        self._nome = valor\n",
        "\n",
        "pessoa = Pessoa(\"Ana\")\n",
        "print(pessoa.nome)\n",
        "pessoa.nome = \"Maria\"\n",
        "print(pessoa.nome)"
      ],
      "metadata": {
        "id": "RYSiD5v3qcfE"
      },
      "execution_count": null,
      "outputs": []
    },
    {
      "cell_type": "code",
      "source": [
        "#Classes Internas\n",
        "#Você pode definir classes dentro de outras classes para representar conceitos relacionados.\n",
        "#Exemplo:\n",
        "class Biblioteca:\n",
        "    class Livro:\n",
        "        def __init__(self, titulo, autor):\n",
        "            self.titulo = titulo\n",
        "            self.autor = autor\n",
        "\n",
        "    def __init__(self):\n",
        "        self.livros = []\n",
        "\n",
        "    def adicionar_livro(self, livro):\n",
        "        self.livros.append(livro)\n",
        "\n",
        "livro1 = Biblioteca.Livro(\"1984\", \"George Orwell\")\n",
        "biblioteca = Biblioteca()\n",
        "biblioteca.adicionar_livro(livro1)\n",
        "print(biblioteca.livros[0].titulo)  # Saída: 1984"
      ],
      "metadata": {
        "id": "FTlQK1rsqgDM"
      },
      "execution_count": null,
      "outputs": []
    },
    {
      "cell_type": "code",
      "source": [
        "#Herança Múltipla\n",
        "#Uma classe pode herdar de várias classes base. Isso é conhecido como herança múltipla.\n",
        "#Sintaxe:\n",
        "class ClasseBase1:\n",
        "    pass\n",
        "\n",
        "class ClasseBase2:\n",
        "    pass\n",
        "\n",
        "class ClasseDerivada(ClasseBase1, ClasseBase2):\n",
        "    pass"
      ],
      "metadata": {
        "id": "YOMK-Bz0qmpt"
      },
      "execution_count": null,
      "outputs": []
    },
    {
      "cell_type": "code",
      "source": [
        "#Exemplo:\n",
        "class Trabalhar:\n",
        "    def trabalhando(self):\n",
        "        pass\n",
        "class Comer:\n",
        "    def comendo(self):\n",
        "        pass\n",
        "\n",
        "class Robo(Trabalhar):\n",
        "    def trabalhando(self):\n",
        "      return \"Estou Trabalhando\"\n",
        "\n",
        "class Humano(Trabalhar, Comer):\n",
        "    def trabalhando(self):\n",
        "      return \"Estou Trabalhando\"\n",
        "    def comendo(self):\n",
        "      return \"Estou Comendo\"\n",
        "robo = Robo()\n",
        "humano = Humano()\n",
        "print(robo.trabalhando())\n",
        "print(humano.trabalhando())\n",
        "print(humano.comendo())"
      ],
      "metadata": {
        "colab": {
          "base_uri": "https://localhost:8080/"
        },
        "id": "-o8iIwFUqq0v",
        "outputId": "dce51188-973b-4c23-b59f-3afefa7baebb"
      },
      "execution_count": 6,
      "outputs": [
        {
          "output_type": "stream",
          "name": "stdout",
          "text": [
            "Estou Trabalhando\n",
            "Estou Trabalhando\n",
            "Estou Comendo\n"
          ]
        }
      ]
    },
    {
      "cell_type": "code",
      "source": [
        "#Métodos Especiais\n",
        "#Métodos com nomes especiais, como init, str, e repr, são usados para definir comportamentos específicos da classe.\n",
        "#Sintaxe:\n",
        "class NomeDaClasse:\n",
        "    def __init__(self, parametros):\n",
        "        # Construtor\n",
        "\n",
        "    def __str__(self):\n",
        "        # Retorna uma string representativa do objeto\n",
        "        return \"Representação do objeto\"\n",
        "\n",
        "    def __repr__(self):\n",
        "        # Retorna uma string que pode ser usada para recriar o objeto\n",
        "        return f\"NomeDaClasse({self.parametros})\""
      ],
      "metadata": {
        "id": "rZ33rU9rr_SF"
      },
      "execution_count": null,
      "outputs": []
    },
    {
      "cell_type": "code",
      "source": [
        "#Exemplo:\n",
        "class Ponto:\n",
        "    def __init__(self, x, y):\n",
        "        self.x = x\n",
        "        self.y = y\n",
        "\n",
        "    def __str__(self):\n",
        "        return f\"Ponto({self.x}, {self.y})\"\n",
        "\n",
        "    def __repr__(self):\n",
        "        return f\"Ponto({self.x}, {self.y})\"\n",
        "\n",
        "ponto = Ponto(3, 4)\n",
        "print(str(ponto))\n",
        "print(repr(ponto))"
      ],
      "metadata": {
        "id": "5DwwrWL0sEV2"
      },
      "execution_count": null,
      "outputs": []
    },
    {
      "cell_type": "code",
      "source": [
        "#Métodos de Instância Privados\n",
        "#Métodos ou atributos que são \"privados\" são prefixados com um único ou duplo sublinhado. Isso é uma convenção para indicar que devem ser usados apenas dentro da classe.\n",
        "#Sintaxe:\n",
        "class NomeDaClasse:\n",
        "    def __init__(self):\n",
        "        self._atributo_protegido = \"Protegido\"\n",
        "        self.__atributo_privado = \"Privado\"\n",
        "\n",
        "    def __metodo_privado(self):\n",
        "        # Código do método privado\n",
        "        pass"
      ],
      "metadata": {
        "id": "7FWoOWo5sJqt"
      },
      "execution_count": null,
      "outputs": []
    },
    {
      "cell_type": "code",
      "source": [
        "#Exemplo:\n",
        "class ContaBancaria:\n",
        "    def __init__(self, saldo_inicial):\n",
        "        self._saldo = saldo_inicial  # Atributo protegido\n",
        "        self.__senha = \"1234\"  # Atributo privado\n",
        "\n",
        "    def _verificar_saldo(self):\n",
        "        return self._saldo\n",
        "\n",
        "    def __verificar_senha(self):\n",
        "        return self.__senha\n",
        "\n",
        "conta = ContaBancaria(100)\n",
        "print(conta._verificar_saldo())\n",
        "print(conta.__verificar_senha())"
      ],
      "metadata": {
        "id": "j72HNheXsOCx"
      },
      "execution_count": null,
      "outputs": []
    }
  ]
}