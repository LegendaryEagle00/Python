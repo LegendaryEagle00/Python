{
  "nbformat": 4,
  "nbformat_minor": 0,
  "metadata": {
    "colab": {
      "provenance": [],
      "authorship_tag": "ABX9TyMJG6kYz1BW9ytRAwo4G/Bb",
      "include_colab_link": true
    },
    "kernelspec": {
      "name": "python3",
      "display_name": "Python 3"
    },
    "language_info": {
      "name": "python"
    }
  },
  "cells": [
    {
      "cell_type": "markdown",
      "metadata": {
        "id": "view-in-github",
        "colab_type": "text"
      },
      "source": [
        "<a href=\"https://colab.research.google.com/github/LegendaryEagle00/Python/blob/main/TesteCRUDPython.ipynb\" target=\"_parent\"><img src=\"https://colab.research.google.com/assets/colab-badge.svg\" alt=\"Open In Colab\"/></a>"
      ]
    },
    {
      "cell_type": "markdown",
      "source": [
        "# Criando a Classe Cliente"
      ],
      "metadata": {
        "id": "6fcFR6ErNgH7"
      }
    },
    {
      "cell_type": "code",
      "source": [
        "class Cliente():\n",
        "    def __init__(self, nome, idade, id=None):\n",
        "        self.id = id\n",
        "        self.nome = nome\n",
        "        self.idade = idade\n",
        "\n",
        "    def get_nome(self):\n",
        "        return self.nome\n",
        "\n",
        "    def get_idade(self):\n",
        "        return self.idade\n",
        "\n",
        "    def get_id(self):\n",
        "        return self.id\n",
        "\n",
        "    def set_nome(self, nome):\n",
        "        self.nome = nome\n",
        "\n",
        "    def set_idade(self, idade):\n",
        "        self.idade = idade"
      ],
      "metadata": {
        "id": "PhrqORCkNJAy"
      },
      "execution_count": null,
      "outputs": []
    },
    {
      "cell_type": "markdown",
      "source": [
        "#Criando Tabela\n"
      ],
      "metadata": {
        "id": "Y_9Sym4ANeTz"
      }
    },
    {
      "cell_type": "code",
      "source": [
        "import sqlite3\n",
        "def criar_tabela():\n",
        "    conn = sqlite3.connect('clientes.db')\n",
        "    cursor = conn.cursor()\n",
        "    cursor.execute(\n",
        "        \"\"\"\n",
        "        CREATE TABLE IF NOT EXISTS clientes (\n",
        "            id INTEGER NOT NULL PRIMARY KEY AUTOINCREMENT,\n",
        "            nome TEXT NOT NULL,\n",
        "            idade INTEGER\n",
        "        );\n",
        "        \"\"\"\n",
        "    )\n",
        "    conn.commit()\n",
        "    conn.close()\n"
      ],
      "metadata": {
        "id": "hkLlm14BNGEA"
      },
      "execution_count": null,
      "outputs": []
    },
    {
      "cell_type": "code",
      "source": [
        "# Chamando a função para criar a tabela\n",
        "criar_tabela()\n"
      ],
      "metadata": {
        "id": "NDy0qHZVNOdc"
      },
      "execution_count": null,
      "outputs": []
    },
    {
      "cell_type": "markdown",
      "source": [
        "#Criando a Operação CREATE\n"
      ],
      "metadata": {
        "id": "taVNihOeNdCK"
      }
    },
    {
      "cell_type": "code",
      "source": [
        "def create_cliente(cliente):\n",
        "    conn = sqlite3.connect('clientes.db')\n",
        "    cursor = conn.cursor()\n",
        "    cursor.execute(\n",
        "        'INSERT INTO clientes (nome, idade) VALUES (?, ?)',\n",
        "        (cliente.get_nome(), cliente.get_idade())\n",
        "    )\n",
        "    conn.commit()\n",
        "    conn.close()\n",
        "\n",
        "\n",
        "\n"
      ],
      "metadata": {
        "id": "Jea5uBXINRqq"
      },
      "execution_count": null,
      "outputs": []
    },
    {
      "cell_type": "markdown",
      "source": [
        "#Criando a Operação READ\n"
      ],
      "metadata": {
        "id": "LSehZPn1NcEq"
      }
    },
    {
      "cell_type": "code",
      "source": [
        "def read_cliente(id):\n",
        "    conn = sqlite3.connect('clientes.db')\n",
        "    cursor = conn.cursor()\n",
        "    cursor.execute(\n",
        "        \"SELECT * FROM clientes WHERE id = ?\",\n",
        "        (id,)\n",
        "    )\n",
        "    cliente = cursor.fetchone()\n",
        "    conn.close()\n",
        "    return cliente\n",
        "\n"
      ],
      "metadata": {
        "id": "ZMHrK25vNU_C"
      },
      "execution_count": null,
      "outputs": []
    },
    {
      "cell_type": "markdown",
      "source": [
        "#Criando a Operação Update\n"
      ],
      "metadata": {
        "id": "w1l6KWKFNa88"
      }
    },
    {
      "cell_type": "code",
      "source": [
        "def update_cliente(cliente):\n",
        "    conn = sqlite3.connect('clientes.db')\n",
        "    cursor = conn.cursor()\n",
        "    cursor.execute(\n",
        "        'UPDATE clientes SET nome = ?, idade = ? WHERE id = ?',\n",
        "        (cliente.get_nome(), cliente.get_idade(), cliente.get_id())\n",
        "    )\n",
        "    conn.commit()\n",
        "    conn.close()\n",
        "\n"
      ],
      "metadata": {
        "id": "JO4TeW6BNWFL"
      },
      "execution_count": null,
      "outputs": []
    },
    {
      "cell_type": "markdown",
      "source": [
        "#Criando a Operação Delete\n"
      ],
      "metadata": {
        "id": "DS94B1vqNZtD"
      }
    },
    {
      "cell_type": "code",
      "source": [
        "def delete_cliente(id):\n",
        "    conn = sqlite3.connect('clientes.db')\n",
        "    cursor = conn.cursor()\n",
        "    cursor.execute(\n",
        "        'DELETE FROM clientes WHERE id = ?',\n",
        "        (id,)\n",
        "    )\n",
        "    conn.commit()\n",
        "    conn.close()"
      ],
      "metadata": {
        "id": "1KY_eVUnNXJK"
      },
      "execution_count": null,
      "outputs": []
    }
  ]
}