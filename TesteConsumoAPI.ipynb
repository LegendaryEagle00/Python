{
  "nbformat": 4,
  "nbformat_minor": 0,
  "metadata": {
    "colab": {
      "provenance": [],
      "authorship_tag": "ABX9TyMvXYd5q/zJ0q6mmmvFM4NG",
      "include_colab_link": true
    },
    "kernelspec": {
      "name": "python3",
      "display_name": "Python 3"
    },
    "language_info": {
      "name": "python"
    }
  },
  "cells": [
    {
      "cell_type": "markdown",
      "metadata": {
        "id": "view-in-github",
        "colab_type": "text"
      },
      "source": [
        "<a href=\"https://colab.research.google.com/github/LegendaryEagle00/Python/blob/main/TesteConsumoAPI.ipynb\" target=\"_parent\"><img src=\"https://colab.research.google.com/assets/colab-badge.svg\" alt=\"Open In Colab\"/></a>"
      ]
    },
    {
      "cell_type": "code",
      "execution_count": 6,
      "metadata": {
        "id": "XxJqCyigQE3F"
      },
      "outputs": [],
      "source": [
        "import requests"
      ]
    },
    {
      "cell_type": "code",
      "source": [
        "while True:\n",
        "    url_base = \"https://economia.awesomeapi.com.br/last/\"\n",
        "\n",
        "    tipo_moeda_original = input(''' Digite o Tipo da Moeda Original:\n",
        "    USD - Dolar Americano\n",
        "    EUR - Euro\n",
        "    BTC - Bitcoin\n",
        "    JPY - Iene\n",
        "    BRL - Real\n",
        "    ARS - Peso Argentino\n",
        "    CLP - Peso Chileno\n",
        "    VEF - Bolivar Venezuelano\n",
        "    UYU - Peso Uruguayo\n",
        "    ''')\n",
        "\n",
        "    tipo_moeda_conversao = input(''' Digite o Tipo da Moeda a Ser Convertido:\n",
        "    USD - Dolar Americano\n",
        "    EUR - Euro\n",
        "    BTC - Bitcoin\n",
        "    JPY - Iene\n",
        "    BRL - Real\n",
        "    ARS - Peso Argentino\n",
        "    CLP - Peso Chileno\n",
        "    VEF - Bolivar Venezuelano\n",
        "    UYU - Peso Uruguayo\n",
        "    ''')\n",
        "\n",
        "    url = url_base + tipo_moeda_original + '-' + tipo_moeda_conversao\n",
        "\n",
        "    valor_em_moeda_original = float(input('Digite o valor a ser convertido: '))\n",
        "\n",
        "\n",
        "    response = requests.get(url)\n",
        "    resposta = response.json()\n",
        "\n",
        "\n",
        "    valor_em_moeda_convertido = valor_em_moeda_original * float(resposta[tipo_moeda_original + tipo_moeda_conversao]['bid'])\n",
        "\n",
        "    print(f'{valor_em_moeda_original} {tipo_moeda_original} Equivale a {valor_em_moeda_convertido:.2f} {tipo_moeda_conversao}')\n"
      ],
      "metadata": {
        "colab": {
          "base_uri": "https://localhost:8080/"
        },
        "id": "G7_AfTMQWj7M",
        "outputId": "e5d1680d-d749-46ec-9cdc-cc71d2228083"
      },
      "execution_count": null,
      "outputs": [
        {
          "output_type": "stream",
          "name": "stdout",
          "text": [
            " Digite o Tipo da Moeda Original:\n",
            "    USD - Dolar Americano\n",
            "    EUR - Euro\n",
            "    BTC - Bitcoin\n",
            "    JPY - Iene\n",
            "    BRL - Real\n",
            "    ARS - Peso Argentino\n",
            "    CLP - Peso Chileno\n",
            "    VEF - Bolivar Venezuelano\n",
            "    UYU - Peso Uruguayo\n",
            "    USD\n",
            " Digite o Tipo da Moeda a Ser Convertido:\n",
            "    USD - Dolar Americano\n",
            "    EUR - Euro\n",
            "    BTC - Bitcoin\n",
            "    JPY - Iene\n",
            "    BRL - Real\n",
            "    ARS - Peso Argentino\n",
            "    CLP - Peso Chileno\n",
            "    VEF - Bolivar Venezuelano\n",
            "    UYU - Peso Uruguayo\n",
            "    BRL\n",
            "Digite o valor a ser convertido: 1\n",
            "1.0 USD Equivale a 5.41 BRL\n"
          ]
        }
      ]
    }
  ]
}