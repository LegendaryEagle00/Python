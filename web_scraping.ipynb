{
  "nbformat": 4,
  "nbformat_minor": 0,
  "metadata": {
    "colab": {
      "provenance": [],
      "authorship_tag": "ABX9TyPhq3FxO4sK0txne38a5LcO",
      "include_colab_link": true
    },
    "kernelspec": {
      "name": "python3",
      "display_name": "Python 3"
    },
    "language_info": {
      "name": "python"
    }
  },
  "cells": [
    {
      "cell_type": "markdown",
      "metadata": {
        "id": "view-in-github",
        "colab_type": "text"
      },
      "source": [
        "<a href=\"https://colab.research.google.com/github/LegendaryEagle00/Python/blob/main/web_scraping.ipynb\" target=\"_parent\"><img src=\"https://colab.research.google.com/assets/colab-badge.svg\" alt=\"Open In Colab\"/></a>"
      ]
    },
    {
      "cell_type": "markdown",
      "source": [
        "Instalando Bibliotecas"
      ],
      "metadata": {
        "id": "IoKyL-YT4N2T"
      }
    },
    {
      "cell_type": "code",
      "execution_count": null,
      "metadata": {
        "id": "XV2p0oh33_cw"
      },
      "outputs": [],
      "source": [
        "!pip install beautifulsoup4 requests selenium"
      ]
    },
    {
      "cell_type": "markdown",
      "source": [
        "Importando Bibliotecas"
      ],
      "metadata": {
        "id": "HU4U3q6r4L1B"
      }
    },
    {
      "cell_type": "code",
      "source": [
        "from bs4 import BeautifulSoup\n",
        "import requests\n",
        "from selenium import webdriver"
      ],
      "metadata": {
        "id": "SNLXGcrv4HJL"
      },
      "execution_count": 2,
      "outputs": []
    },
    {
      "cell_type": "markdown",
      "source": [
        "Requisição HTTP:"
      ],
      "metadata": {
        "id": "z2vCAFEv4P4z"
      }
    },
    {
      "cell_type": "code",
      "source": [
        "url = \"https://exemplo.com\"\n",
        "response = requests.get(url)"
      ],
      "metadata": {
        "id": "GKEq96f64TxS"
      },
      "execution_count": null,
      "outputs": []
    },
    {
      "cell_type": "markdown",
      "source": [
        "Analisando o HTML:"
      ],
      "metadata": {
        "id": "fWPM4vna4VIS"
      }
    },
    {
      "cell_type": "code",
      "source": [
        "soup = BeautifulSoup(response.content, 'html.parser')"
      ],
      "metadata": {
        "id": "GlerPDrj4WKq"
      },
      "execution_count": null,
      "outputs": []
    },
    {
      "cell_type": "markdown",
      "source": [
        "Extraindo os dados:"
      ],
      "metadata": {
        "id": "BputQwAW4XzE"
      }
    },
    {
      "cell_type": "code",
      "source": [
        "# Exemplo: Extraindo todos os títulos h1 da página\n",
        "titles = soup.find_all('h1')\n",
        "for title in titles:\n",
        "    print(title.text)"
      ],
      "metadata": {
        "id": "OxgI2Zuy4XXr"
      },
      "execution_count": null,
      "outputs": []
    },
    {
      "cell_type": "markdown",
      "source": [
        "Exemplo completo de web scraping com Beautiful Soup:"
      ],
      "metadata": {
        "id": "uqPyLB6-4ch_"
      }
    },
    {
      "cell_type": "code",
      "source": [
        "from bs4 import BeautifulSoup\n",
        "import requests\n",
        "import time\n",
        "\n",
        "for i in range(1, 100):\n",
        "    url = f\"https://www.academiadecontos.com/texto.php?id_texto={i}&cap=0\" # muda a URL\n",
        "\n",
        "    try:\n",
        "        response = requests.get(url)\n",
        "        response.raise_for_status()\n",
        "        soup = BeautifulSoup(response.content, 'html.parser') #\n",
        "\n",
        "        texto = soup.find('div', class_='texto-nao-lirico')\n",
        "\n",
        "        if texto:\n",
        "            texto_completo = \"\"\n",
        "            for paragrafo in texto.find_all('p'):\n",
        "                texto_completo += paragrafo.text.strip() + \"\\n\"\n",
        "\n",
        "            nome_do_arquivo = f\"texto_{i}.txt\"\n",
        "            with open(nome_do_arquivo, \"w\", encoding=\"utf-8\") as f:\n",
        "                f.write(texto_completo)\n",
        "\n",
        "            print(f\"Texto extraído e salvo no arquivo: {nome_do_arquivo}\")\n",
        "        else:\n",
        "            print(f\"Não foi possível encontrar o texto na página {url}\")\n",
        "    except requests.exceptions.RequestException as e:\n",
        "        print(f\"Erro ao buscar a página {url}: {e}\")\n",
        "\n",
        "    #time.sleep(1)"
      ],
      "metadata": {
        "colab": {
          "base_uri": "https://localhost:8080/"
        },
        "id": "K7rpfLa59hWs",
        "outputId": "f061225c-ffd9-40c1-d56a-4efd78154383"
      },
      "execution_count": 21,
      "outputs": [
        {
          "output_type": "stream",
          "name": "stdout",
          "text": [
            "Texto extraído e salvo no arquivo: texto_1.txt\n",
            "Texto extraído e salvo no arquivo: texto_2.txt\n",
            "Texto extraído e salvo no arquivo: texto_3.txt\n",
            "Não foi possível encontrar o texto na página https://www.academiadecontos.com/texto.php?id_texto=4&cap=0\n",
            "Texto extraído e salvo no arquivo: texto_5.txt\n",
            "Texto extraído e salvo no arquivo: texto_6.txt\n",
            "Texto extraído e salvo no arquivo: texto_7.txt\n",
            "Texto extraído e salvo no arquivo: texto_8.txt\n",
            "Não foi possível encontrar o texto na página https://www.academiadecontos.com/texto.php?id_texto=9&cap=0\n",
            "Texto extraído e salvo no arquivo: texto_10.txt\n",
            "Não foi possível encontrar o texto na página https://www.academiadecontos.com/texto.php?id_texto=11&cap=0\n",
            "Texto extraído e salvo no arquivo: texto_12.txt\n",
            "Não foi possível encontrar o texto na página https://www.academiadecontos.com/texto.php?id_texto=13&cap=0\n",
            "Texto extraído e salvo no arquivo: texto_14.txt\n",
            "Texto extraído e salvo no arquivo: texto_15.txt\n",
            "Não foi possível encontrar o texto na página https://www.academiadecontos.com/texto.php?id_texto=16&cap=0\n",
            "Texto extraído e salvo no arquivo: texto_17.txt\n",
            "Texto extraído e salvo no arquivo: texto_18.txt\n",
            "Não foi possível encontrar o texto na página https://www.academiadecontos.com/texto.php?id_texto=19&cap=0\n",
            "Não foi possível encontrar o texto na página https://www.academiadecontos.com/texto.php?id_texto=20&cap=0\n",
            "Texto extraído e salvo no arquivo: texto_21.txt\n",
            "Texto extraído e salvo no arquivo: texto_22.txt\n",
            "Não foi possível encontrar o texto na página https://www.academiadecontos.com/texto.php?id_texto=23&cap=0\n",
            "Texto extraído e salvo no arquivo: texto_24.txt\n",
            "Texto extraído e salvo no arquivo: texto_25.txt\n",
            "Não foi possível encontrar o texto na página https://www.academiadecontos.com/texto.php?id_texto=26&cap=0\n",
            "Não foi possível encontrar o texto na página https://www.academiadecontos.com/texto.php?id_texto=27&cap=0\n",
            "Texto extraído e salvo no arquivo: texto_28.txt\n",
            "Texto extraído e salvo no arquivo: texto_29.txt\n",
            "Texto extraído e salvo no arquivo: texto_30.txt\n",
            "Texto extraído e salvo no arquivo: texto_31.txt\n",
            "Texto extraído e salvo no arquivo: texto_32.txt\n",
            "Não foi possível encontrar o texto na página https://www.academiadecontos.com/texto.php?id_texto=33&cap=0\n",
            "Texto extraído e salvo no arquivo: texto_34.txt\n",
            "Texto extraído e salvo no arquivo: texto_35.txt\n",
            "Texto extraído e salvo no arquivo: texto_36.txt\n",
            "Texto extraído e salvo no arquivo: texto_37.txt\n",
            "Não foi possível encontrar o texto na página https://www.academiadecontos.com/texto.php?id_texto=38&cap=0\n",
            "Texto extraído e salvo no arquivo: texto_39.txt\n",
            "Texto extraído e salvo no arquivo: texto_40.txt\n",
            "Texto extraído e salvo no arquivo: texto_41.txt\n",
            "Texto extraído e salvo no arquivo: texto_42.txt\n",
            "Texto extraído e salvo no arquivo: texto_43.txt\n",
            "Texto extraído e salvo no arquivo: texto_44.txt\n",
            "Não foi possível encontrar o texto na página https://www.academiadecontos.com/texto.php?id_texto=45&cap=0\n",
            "Não foi possível encontrar o texto na página https://www.academiadecontos.com/texto.php?id_texto=46&cap=0\n",
            "Texto extraído e salvo no arquivo: texto_47.txt\n",
            "Texto extraído e salvo no arquivo: texto_48.txt\n",
            "Texto extraído e salvo no arquivo: texto_49.txt\n",
            "Texto extraído e salvo no arquivo: texto_50.txt\n",
            "Não foi possível encontrar o texto na página https://www.academiadecontos.com/texto.php?id_texto=51&cap=0\n",
            "Não foi possível encontrar o texto na página https://www.academiadecontos.com/texto.php?id_texto=52&cap=0\n",
            "Não foi possível encontrar o texto na página https://www.academiadecontos.com/texto.php?id_texto=53&cap=0\n",
            "Texto extraído e salvo no arquivo: texto_54.txt\n",
            "Texto extraído e salvo no arquivo: texto_55.txt\n",
            "Não foi possível encontrar o texto na página https://www.academiadecontos.com/texto.php?id_texto=56&cap=0\n",
            "Não foi possível encontrar o texto na página https://www.academiadecontos.com/texto.php?id_texto=57&cap=0\n",
            "Não foi possível encontrar o texto na página https://www.academiadecontos.com/texto.php?id_texto=58&cap=0\n",
            "Não foi possível encontrar o texto na página https://www.academiadecontos.com/texto.php?id_texto=59&cap=0\n",
            "Texto extraído e salvo no arquivo: texto_60.txt\n",
            "Texto extraído e salvo no arquivo: texto_61.txt\n",
            "Texto extraído e salvo no arquivo: texto_62.txt\n",
            "Texto extraído e salvo no arquivo: texto_63.txt\n",
            "Texto extraído e salvo no arquivo: texto_64.txt\n",
            "Texto extraído e salvo no arquivo: texto_65.txt\n",
            "Não foi possível encontrar o texto na página https://www.academiadecontos.com/texto.php?id_texto=66&cap=0\n",
            "Texto extraído e salvo no arquivo: texto_67.txt\n",
            "Texto extraído e salvo no arquivo: texto_68.txt\n",
            "Texto extraído e salvo no arquivo: texto_69.txt\n",
            "Texto extraído e salvo no arquivo: texto_70.txt\n",
            "Texto extraído e salvo no arquivo: texto_71.txt\n",
            "Não foi possível encontrar o texto na página https://www.academiadecontos.com/texto.php?id_texto=72&cap=0\n",
            "Não foi possível encontrar o texto na página https://www.academiadecontos.com/texto.php?id_texto=73&cap=0\n",
            "Não foi possível encontrar o texto na página https://www.academiadecontos.com/texto.php?id_texto=74&cap=0\n",
            "Não foi possível encontrar o texto na página https://www.academiadecontos.com/texto.php?id_texto=75&cap=0\n",
            "Texto extraído e salvo no arquivo: texto_76.txt\n",
            "Texto extraído e salvo no arquivo: texto_77.txt\n",
            "Texto extraído e salvo no arquivo: texto_78.txt\n",
            "Não foi possível encontrar o texto na página https://www.academiadecontos.com/texto.php?id_texto=79&cap=0\n",
            "Não foi possível encontrar o texto na página https://www.academiadecontos.com/texto.php?id_texto=80&cap=0\n",
            "Texto extraído e salvo no arquivo: texto_81.txt\n",
            "Não foi possível encontrar o texto na página https://www.academiadecontos.com/texto.php?id_texto=82&cap=0\n",
            "Texto extraído e salvo no arquivo: texto_83.txt\n",
            "Texto extraído e salvo no arquivo: texto_84.txt\n",
            "Texto extraído e salvo no arquivo: texto_85.txt\n",
            "Texto extraído e salvo no arquivo: texto_86.txt\n",
            "Texto extraído e salvo no arquivo: texto_87.txt\n",
            "Texto extraído e salvo no arquivo: texto_88.txt\n",
            "Não foi possível encontrar o texto na página https://www.academiadecontos.com/texto.php?id_texto=89&cap=0\n",
            "Não foi possível encontrar o texto na página https://www.academiadecontos.com/texto.php?id_texto=90&cap=0\n",
            "Não foi possível encontrar o texto na página https://www.academiadecontos.com/texto.php?id_texto=91&cap=0\n",
            "Não foi possível encontrar o texto na página https://www.academiadecontos.com/texto.php?id_texto=92&cap=0\n",
            "Texto extraído e salvo no arquivo: texto_93.txt\n",
            "Não foi possível encontrar o texto na página https://www.academiadecontos.com/texto.php?id_texto=94&cap=0\n",
            "Não foi possível encontrar o texto na página https://www.academiadecontos.com/texto.php?id_texto=95&cap=0\n",
            "Não foi possível encontrar o texto na página https://www.academiadecontos.com/texto.php?id_texto=96&cap=0\n",
            "Texto extraído e salvo no arquivo: texto_97.txt\n",
            "Texto extraído e salvo no arquivo: texto_98.txt\n",
            "Não foi possível encontrar o texto na página https://www.academiadecontos.com/texto.php?id_texto=99&cap=0\n"
          ]
        }
      ]
    }
  ]
}